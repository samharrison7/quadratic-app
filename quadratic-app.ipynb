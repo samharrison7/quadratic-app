{
 "cells": [
  {
   "cell_type": "markdown",
   "metadata": {},
   "source": [
    "# Quadratic equation plotter\n",
    "\n",
    "This amazing web app lets you interactively plot a quadratic equation - wow!\n",
    "\n",
    "$$\n",
    "y = ax^2 + bx + c\n",
    "$$"
   ]
  },
  {
   "cell_type": "code",
   "execution_count": 1,
   "metadata": {},
   "outputs": [
    {
     "data": {
      "application/vnd.jupyter.widget-view+json": {
       "model_id": "1946faf25342415e8366f0ea94be63dd",
       "version_major": 2,
       "version_minor": 0
      },
      "text/plain": [
       "interactive(children=(FloatText(value=1.0, description='a'), FloatText(value=1.0, description='b'), FloatText(…"
      ]
     },
     "metadata": {},
     "output_type": "display_data"
    }
   ],
   "source": [
    "import numpy as np\n",
    "from ipywidgets import interact\n",
    "import ipywidgets as widgets\n",
    "import plotly.express as px\n",
    "\n",
    "# Use ipywidgets to let the user input values for a, b, c and the x range\n",
    "@interact(a=widgets.FloatText(1.0),\n",
    "          b=widgets.FloatText(1.0),\n",
    "          c=widgets.FloatText(1.0),\n",
    "          x_limits=widgets.IntRangeSlider(value=[-10, 10], min=-100, max=100))\n",
    "def plot_quadratic(a, b, c, x_limits):\n",
    "\n",
    "    # Create a range of x values over which to evaluate the function\n",
    "    x = np.linspace(*x_limits, 100)\n",
    "\n",
    "    # Define the quadratic function\n",
    "    def f(x, a, b, c):\n",
    "        return a * x**2 + b * x + c\n",
    "\n",
    "    # Evaluate the function over the x range\n",
    "    y = f(x, a, b, c)\n",
    "\n",
    "    # Plot using Plotly\n",
    "    fig = px.line(x=x, y=y)\n",
    "    fig.show()"
   ]
  }
 ],
 "metadata": {
  "kernelspec": {
   "display_name": "Python [conda env:quadratic-app]",
   "language": "python",
   "name": "conda-env-quadratic-app-py"
  },
  "language_info": {
   "codemirror_mode": {
    "name": "ipython",
    "version": 3
   },
   "file_extension": ".py",
   "mimetype": "text/x-python",
   "name": "python",
   "nbconvert_exporter": "python",
   "pygments_lexer": "ipython3",
   "version": "3.10.4"
  }
 },
 "nbformat": 4,
 "nbformat_minor": 4
}
