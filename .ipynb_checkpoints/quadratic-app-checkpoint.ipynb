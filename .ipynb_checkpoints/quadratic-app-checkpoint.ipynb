{
 "cells": [
  {
   "cell_type": "markdown",
   "metadata": {},
   "source": [
    "# Quadratic equation plotter\n",
    "\n",
    "This amazing web app lets you interactively plot a quadratic equation - wow!\n",
    "\n",
    "$$\n",
    "y = ax^2 + bx + c\n",
    "$$"
   ]
  },
  {
   "cell_type": "code",
   "execution_count": 1,
   "metadata": {},
   "outputs": [
    {
     "ename": "ImportError",
     "evalue": "Plotly express requires pandas to be installed.",
     "output_type": "error",
     "traceback": [
      "\u001b[0;31m---------------------------------------------------------------------------\u001b[0m",
      "\u001b[0;31mImportError\u001b[0m                               Traceback (most recent call last)",
      "Input \u001b[0;32mIn [1]\u001b[0m, in \u001b[0;36m<cell line: 4>\u001b[0;34m()\u001b[0m\n\u001b[1;32m      2\u001b[0m \u001b[38;5;28;01mfrom\u001b[39;00m \u001b[38;5;21;01mipywidgets\u001b[39;00m \u001b[38;5;28;01mimport\u001b[39;00m interact\n\u001b[1;32m      3\u001b[0m \u001b[38;5;28;01mimport\u001b[39;00m \u001b[38;5;21;01mipywidgets\u001b[39;00m \u001b[38;5;28;01mas\u001b[39;00m \u001b[38;5;21;01mwidgets\u001b[39;00m\n\u001b[0;32m----> 4\u001b[0m \u001b[38;5;28;01mimport\u001b[39;00m \u001b[38;5;21;01mplotly\u001b[39;00m\u001b[38;5;21;01m.\u001b[39;00m\u001b[38;5;21;01mexpress\u001b[39;00m \u001b[38;5;28;01mas\u001b[39;00m \u001b[38;5;21;01mpx\u001b[39;00m\n\u001b[1;32m      6\u001b[0m \u001b[38;5;66;03m# Use ipywidgets to let the user input values for a, b, c and the x range\u001b[39;00m\n\u001b[1;32m      7\u001b[0m \u001b[38;5;129m@interact\u001b[39m(a\u001b[38;5;241m=\u001b[39mwidgets\u001b[38;5;241m.\u001b[39mFloatText(\u001b[38;5;241m1.0\u001b[39m),\n\u001b[1;32m      8\u001b[0m           b\u001b[38;5;241m=\u001b[39mwidgets\u001b[38;5;241m.\u001b[39mFloatText(\u001b[38;5;241m1.0\u001b[39m),\n\u001b[1;32m      9\u001b[0m           c\u001b[38;5;241m=\u001b[39mwidgets\u001b[38;5;241m.\u001b[39mFloatText(\u001b[38;5;241m1.0\u001b[39m),\n\u001b[0;32m   (...)\u001b[0m\n\u001b[1;32m     12\u001b[0m \n\u001b[1;32m     13\u001b[0m     \u001b[38;5;66;03m# Create a range of x values over which to evaluate the function\u001b[39;00m\n",
      "File \u001b[0;32m~/miniconda3/envs/quadratic-app/lib/python3.10/site-packages/plotly/express/__init__.py:10\u001b[0m, in \u001b[0;36m<module>\u001b[0;34m\u001b[0m\n\u001b[1;32m      8\u001b[0m pd \u001b[38;5;241m=\u001b[39m optional_imports\u001b[38;5;241m.\u001b[39mget_module(\u001b[38;5;124m\"\u001b[39m\u001b[38;5;124mpandas\u001b[39m\u001b[38;5;124m\"\u001b[39m)\n\u001b[1;32m      9\u001b[0m \u001b[38;5;28;01mif\u001b[39;00m pd \u001b[38;5;129;01mis\u001b[39;00m \u001b[38;5;28;01mNone\u001b[39;00m:\n\u001b[0;32m---> 10\u001b[0m     \u001b[38;5;28;01mraise\u001b[39;00m \u001b[38;5;167;01mImportError\u001b[39;00m(\n\u001b[1;32m     11\u001b[0m         \u001b[38;5;124;03m\"\"\"\\\u001b[39;00m\n\u001b[1;32m     12\u001b[0m \u001b[38;5;124;03mPlotly express requires pandas to be installed.\"\"\"\u001b[39;00m\n\u001b[1;32m     13\u001b[0m     )\n\u001b[1;32m     15\u001b[0m \u001b[38;5;28;01mfrom\u001b[39;00m \u001b[38;5;21;01m.\u001b[39;00m\u001b[38;5;21;01m_imshow\u001b[39;00m \u001b[38;5;28;01mimport\u001b[39;00m imshow\n\u001b[1;32m     16\u001b[0m \u001b[38;5;28;01mfrom\u001b[39;00m \u001b[38;5;21;01m.\u001b[39;00m\u001b[38;5;21;01m_chart_types\u001b[39;00m \u001b[38;5;28;01mimport\u001b[39;00m (  \u001b[38;5;66;03m# noqa: F401\u001b[39;00m\n\u001b[1;32m     17\u001b[0m     scatter,\n\u001b[1;32m     18\u001b[0m     scatter_3d,\n\u001b[0;32m   (...)\u001b[0m\n\u001b[1;32m     51\u001b[0m     density_mapbox,\n\u001b[1;32m     52\u001b[0m )\n",
      "\u001b[0;31mImportError\u001b[0m: Plotly express requires pandas to be installed."
     ]
    }
   ],
   "source": [
    "import numpy as np\n",
    "from ipywidgets import interact\n",
    "import ipywidgets as widgets\n",
    "import plotly.express as px\n",
    "\n",
    "# Use ipywidgets to let the user input values for a, b, c and the x range\n",
    "@interact(a=widgets.FloatText(1.0),\n",
    "          b=widgets.FloatText(1.0),\n",
    "          c=widgets.FloatText(1.0),\n",
    "          x_limits=widgets.IntRangeSlider(value=[-10, 10], min=-100, max=100))\n",
    "def plot_quadratic(a, b, c, x_limits):\n",
    "\n",
    "    # Create a range of x values over which to evaluate the function\n",
    "    x = np.linspace(*x_limits, 100)\n",
    "\n",
    "    # Define the quadratic function\n",
    "    def f(x, a, b, c):\n",
    "        return a * x**2 + b * x + c\n",
    "\n",
    "    # Evaluate the function over the x range\n",
    "    y = f(x, a, b, c)\n",
    "\n",
    "    # Plot using Plotly\n",
    "    fig = px.line(x=x, y=y)\n",
    "    fig.show()"
   ]
  }
 ],
 "metadata": {
  "kernelspec": {
   "display_name": "Python [conda env:quadratic-app]",
   "language": "python",
   "name": "conda-env-quadratic-app-py"
  },
  "language_info": {
   "codemirror_mode": {
    "name": "ipython",
    "version": 3
   },
   "file_extension": ".py",
   "mimetype": "text/x-python",
   "name": "python",
   "nbconvert_exporter": "python",
   "pygments_lexer": "ipython3",
   "version": "3.10.4"
  }
 },
 "nbformat": 4,
 "nbformat_minor": 4
}
